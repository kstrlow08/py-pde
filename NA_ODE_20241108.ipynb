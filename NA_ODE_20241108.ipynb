{
  "cells": [
    {
      "cell_type": "markdown",
      "metadata": {
        "id": "view-in-github",
        "colab_type": "text"
      },
      "source": [
        "<a href=\"https://colab.research.google.com/github/kstrlow08/py-pde/blob/main/NA_ODE_20241108.ipynb\" target=\"_parent\"><img src=\"https://colab.research.google.com/assets/colab-badge.svg\" alt=\"Open In Colab\"/></a>"
      ]
    },
    {
      "cell_type": "markdown",
      "id": "976f4f1f",
      "metadata": {
        "id": "976f4f1f"
      },
      "source": [
        "$ y'=y$, $y(0)=1$"
      ]
    },
    {
      "cell_type": "code",
      "execution_count": null,
      "id": "ceaf4c22",
      "metadata": {
        "tags": [],
        "id": "ceaf4c22"
      },
      "outputs": [],
      "source": [
        "import torch\n",
        "import numpy as np\n",
        "import matplotlib.pyplot as plt\n",
        "\n",
        "from sklearn.metrics import mean_squared_error"
      ]
    },
    {
      "cell_type": "code",
      "execution_count": null,
      "id": "cfede39a",
      "metadata": {
        "id": "cfede39a"
      },
      "outputs": [],
      "source": [
        "def Euler_method(f,y0,t):\n",
        "    y = np.zeros(len(t))\n",
        "    y[0] = y0\n",
        "    for i in range(0,len(t)-1):\n",
        "        h = t[i+1]-t[i]\n",
        "        y[i+1] = y[i] + f(y[i],t[i])*h\n",
        "    return y\n",
        "\n",
        "def Improved_Euler_method(f,y0,t):\n",
        "    y = np.zeros(len(t))\n",
        "    y[0] = y0\n",
        "    for i in range(0,len(t)-1):\n",
        "        h = t[i+1]-t[i]\n",
        "        F1 = f(y[i],t[i])\n",
        "        F2 = f(y[i] + h/2*F1, t[i]+h)\n",
        "        y[i+1] = y[i] + h*F2\n",
        "    return y\n",
        "\n",
        "##### Runge Kutta 4th Order Method #####\n",
        "def RK_method(f,y0,t):\n",
        "    y = np.zeros(len(t))\n",
        "    y[0] = y0\n",
        "    for i in range(0,len(t)-1):\n",
        "        h = t[i+1]-t[i]\n",
        "        F1 = h*f(y[i],t[i])\n",
        "        F2 = h*f((y[i]+F1/2),(t[i]+h/2))\n",
        "        F3 = h*f((y[i]+F2/2),(t[i]+h/2))\n",
        "        F4 = h*f((y[i]+F3),(t[i]+h))\n",
        "        y[i+1] = y[i] + 1/6*(F1 + 2*F2 + 2*F3 + F4)\n",
        "    return y"
      ]
    },
    {
      "cell_type": "code",
      "execution_count": null,
      "id": "8b991e26",
      "metadata": {
        "id": "8b991e26"
      },
      "outputs": [],
      "source": [
        "def f(y,x):\n",
        "    return y"
      ]
    },
    {
      "cell_type": "code",
      "execution_count": null,
      "id": "4953405d",
      "metadata": {
        "id": "4953405d",
        "outputId": "b5e43be9-6f90-4580-806d-35312c53f33e"
      },
      "outputs": [
        {
          "name": "stdout",
          "output_type": "stream",
          "text": [
            "Euler method\n",
            "h: 0.0202, euler_error:0.058264, euler_error/euler_b4error: 0.058264, ratio: 0.5\n",
            "Improved_Euler method\n",
            "h: 0.0202, RK2_error:0.000395, RK2_error/RK2_b4error: 0.000395, ratio: 0.25\n",
            "RK4_Euler method\n",
            "h: 0.0202, RK4_error:0.0000000080471087, RK4_error/RK4_b4error: 0.0000000080471087, ratio: 0.0625\n",
            "----------------------------------------------------\n",
            "Euler method\n",
            "h: 0.0101, euler_error:0.029143, euler_error/euler_b4error: 0.500185, ratio: 0.5\n",
            "Improved_Euler method\n",
            "h: 0.0101, RK2_error:0.000098, RK2_error/RK2_b4error: 0.248012, ratio: 0.25\n",
            "RK4_Euler method\n",
            "h: 0.0101, RK4_error:0.0000000004943447, RK4_error/RK4_b4error: 0.0614313402417715, ratio: 0.0625\n",
            "----------------------------------------------------\n",
            "Euler method\n",
            "h: 0.0050, euler_error:0.014574, euler_error/euler_b4error: 0.500098, ratio: 0.5\n",
            "Improved_Euler method\n",
            "h: 0.0050, RK2_error:0.000024, RK2_error/RK2_b4error: 0.249001, ratio: 0.25\n",
            "RK4_Euler method\n",
            "h: 0.0050, RK4_error:0.0000000000306323, RK4_error/RK4_b4error: 0.0619653827993414, ratio: 0.0625\n",
            "----------------------------------------------------\n",
            "Euler method\n",
            "h: 0.0025, euler_error:0.007288, euler_error/euler_b4error: 0.500051, ratio: 0.5\n",
            "Improved_Euler method\n",
            "h: 0.0025, RK2_error:0.000006, RK2_error/RK2_b4error: 0.249499, ratio: 0.25\n",
            "RK4_Euler method\n",
            "h: 0.0025, RK4_error:0.0000000000019138, RK4_error/RK4_b4error: 0.0624781987554971, ratio: 0.0625\n",
            "----------------------------------------------------\n",
            "Euler method\n",
            "h: 0.0013, euler_error:0.003644, euler_error/euler_b4error: 0.500026, ratio: 0.5\n",
            "Improved_Euler method\n",
            "h: 0.0013, RK2_error:0.000002, RK2_error/RK2_b4error: 0.249749, ratio: 0.25\n",
            "RK4_Euler method\n",
            "h: 0.0013, RK4_error:0.0000000000001210, RK4_error/RK4_b4error: 0.0632238563557895, ratio: 0.0625\n",
            "----------------------------------------------------\n"
          ]
        }
      ],
      "source": [
        "n=100;y0=1;\n",
        "euler_b4error=1;RK2_b4error=1;RK4_b4error=1\n",
        "for ind in range(5):\n",
        "    t = np.linspace(0,2,n)\n",
        "    ##### Step Size Calculation #####\n",
        "    h = t[2]-t[1]\n",
        "\n",
        "    y_Euler = Euler_method(f,y0,t)\n",
        "    y_Improved = Improved_Euler_method(f,y0,t)\n",
        "    y_RK = RK_method(f,y0,t)\n",
        "    ##### Analytical solution #####\n",
        "    t_ana = np.linspace(0,2,n)\n",
        "    y_ana =np.exp(t_ana)\n",
        "    euler_error=mean_squared_error(y_Euler, y_ana)**(1/2)\n",
        "    RK2_error=mean_squared_error(y_Improved, y_ana)**(1/2)\n",
        "    RK4_error=mean_squared_error(y_RK, y_ana)**(1/2)\n",
        "    print('Euler method')\n",
        "    print(f\"h: {h:.4f}, euler_error:{euler_error:.6f}, euler_error/euler_b4error: {euler_error/euler_b4error:.6f}, ratio: {0.5}\")\n",
        "    print('Improved_Euler method')\n",
        "    print(f\"h: {h:.4f}, RK2_error:{RK2_error:.6f}, RK2_error/RK2_b4error: {RK2_error/RK2_b4error:.6f}, ratio: {0.5**2}\")\n",
        "    print('RK4_Euler method')\n",
        "    print(f\"h: {h:.4f}, RK4_error:{RK4_error:.16f}, RK4_error/RK4_b4error: {RK4_error/RK4_b4error:.16f}, ratio: {0.5**4}\")\n",
        "    euler_b4error=euler_error;RK2_b4error=RK2_error;RK4_b4error=RK4_error\n",
        "    n=n*2\n",
        "    print('----------------------------------------------------')"
      ]
    },
    {
      "cell_type": "code",
      "execution_count": null,
      "id": "45a18e19",
      "metadata": {
        "id": "45a18e19"
      },
      "outputs": [],
      "source": []
    }
  ],
  "metadata": {
    "kernelspec": {
      "display_name": "Python 3 (ipykernel)",
      "language": "python",
      "name": "python3"
    },
    "language_info": {
      "codemirror_mode": {
        "name": "ipython",
        "version": 3
      },
      "file_extension": ".py",
      "mimetype": "text/x-python",
      "name": "python",
      "nbconvert_exporter": "python",
      "pygments_lexer": "ipython3",
      "version": "3.11.7"
    },
    "colab": {
      "provenance": [],
      "include_colab_link": true
    }
  },
  "nbformat": 4,
  "nbformat_minor": 5
}